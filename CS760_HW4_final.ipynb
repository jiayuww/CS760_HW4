{
 "cells": [
  {
   "cell_type": "code",
   "execution_count": 595,
   "id": "0ad9f720",
   "metadata": {},
   "outputs": [],
   "source": [
    "import numpy as np\n",
    "import matplotlib\n",
    "import matplotlib.pyplot as plt\n",
    "import os\n",
    "from collections import Counter\n",
    "from os import listdir\n",
    "from os.path import isfile, join\n",
    "import torch\n",
    "from sklearn.model_selection import train_test_split\n",
    "import torchvision.datasets as datasets\n",
    "import torchvision.transforms as transforms\n",
    "import torch.nn as nn\n",
    "import torch.optim as optim\n",
    "from torch.utils.data import DataLoader"
   ]
  },
  {
   "cell_type": "markdown",
   "id": "cded0793",
   "metadata": {},
   "source": [
    "## Section 2: Naive Bayes"
   ]
  },
  {
   "cell_type": "code",
   "execution_count": 516,
   "id": "f84a044c",
   "metadata": {},
   "outputs": [],
   "source": [
    "# Load files\n",
    "mypath = './languageID'\n",
    "files = [f for f in listdir(mypath) if isfile(join(mypath, f))]  # all 60 files\n",
    "\n",
    "# all classified files 0-19\n",
    "docs_e = sorted([name for name in files if name.startswith(\"e\") ]) \n",
    "docs_j = sorted([name for name in files if name.startswith(\"j\") ])\n",
    "docs_s = sorted([name for name in files if name.startswith(\"s\") ])"
   ]
  },
  {
   "cell_type": "code",
   "execution_count": 517,
   "id": "897a3f3a",
   "metadata": {},
   "outputs": [],
   "source": [
    "# Split training and test data\n",
    "train_e = [name for name in docs_e if not name[2].isdigit()]  # training files 0-9\n",
    "train_j = [name for name in docs_j if not name[2].isdigit()]\n",
    "train_s = [name for name in docs_s if not name[2].isdigit()]\n",
    "\n",
    "test_e = [name for name in docs_e if name not in train_e]  # test files 10-19\n",
    "test_j = [name for name in docs_j if name not in train_j]\n",
    "test_s = [name for name in docs_s if name not in train_s]"
   ]
  },
  {
   "cell_type": "code",
   "execution_count": 590,
   "id": "45b84813",
   "metadata": {},
   "outputs": [],
   "source": [
    "def get_full_list(original_list):\n",
    "    order = [' ', 'a', 'b', 'c', 'd', 'e', 'f', 'g', 'h', 'i', 'j', 'k', 'l', 'm', 'n', 'o', 'p', 'q', 'r', 's', 't', 'u', 'v', 'w', 'x', 'y', 'z']\n",
    "    for i in range(len(order)):\n",
    "        if i <= len(original_list)-1:\n",
    "            if original_list[i][0] != order[i]:\n",
    "                original_list.insert(i, (order[i], 0))\n",
    "        else: \n",
    "            original_list.append((order[i], 0))    \n",
    "    assert len(original_list) == 27\n",
    "    return original_list\n",
    "\n",
    "# get corpus from docs\n",
    "def from_file_get_corpus(mypath, docs):\n",
    "    mega_corpus_chars = \"\"\n",
    "    for file in docs:\n",
    "        file_path = join(mypath, file)\n",
    "        with open(file_path) as f:\n",
    "            mega_corpus_chars += f.read()\n",
    "    mega_corpus_chars = mega_corpus_chars.replace('\\n', '')\n",
    "    total_num_char = len(mega_corpus_chars)\n",
    "    cnt = Counter(mega_corpus_chars)\n",
    "    sorted_cnt = sorted([(char, count) for char, count in cnt.items()]) \n",
    "    sorted_cnt = get_full_list(sorted_cnt)\n",
    "#     print(sorted_cnt)\n",
    "    return total_num_char, sorted_cnt\n",
    "\n",
    "# get conditional probability of c_i given y\n",
    "def get_cond_prob(mypath, docs, alpha):\n",
    "    K_s  = 27\n",
    "    total_num_char, sorted_cnt = from_file_get_corpus(mypath, docs)\n",
    "    ans = [(tup[0],(tup[1] + alpha)/(total_num_char + K_s * alpha)) for tup in sorted_cnt]\n",
    "    return ans"
   ]
  },
  {
   "cell_type": "code",
   "execution_count": 553,
   "id": "df4dad74",
   "metadata": {},
   "outputs": [
    {
     "name": "stdout",
     "output_type": "stream",
     "text": [
      ".....English.....\n",
      "[(' ', 2712), ('a', 910), ('b', 168), ('c', 325), ('d', 332), ('e', 1594), ('f', 286), ('g', 264), ('h', 714), ('i', 838), ('j', 21), ('k', 56), ('l', 438), ('m', 310), ('n', 876), ('o', 975), ('p', 253), ('q', 8), ('r', 814), ('s', 1001), ('t', 1212), ('u', 403), ('v', 140), ('w', 234), ('x', 17), ('y', 209), ('z', 9)]\n",
      "[(' ', 0.1792499586981662), ('a', 0.0601685114819098), ('b', 0.011134974392863043), ('c', 0.021509995043779945), ('d', 0.021972575582355856), ('e', 0.1053692383941847), ('f', 0.018932760614571286), ('g', 0.017478936064761277), ('h', 0.047216256401784236), ('i', 0.055410540227986124), ('j', 0.001420783082768875), ('k', 0.0037336857756484387), ('l', 0.028977366595076822), ('m', 0.020518751032545846), ('n', 0.057921691723112505), ('o', 0.06446390219725756), ('p', 0.01675202378985627), ('q', 0.0005617049396993227), ('r', 0.053824549810011564), ('s', 0.06618205848339666), ('t', 0.08012555757475633), ('u', 0.026664463902197257), ('v', 0.009284652238559392), ('w', 0.015496448042293078), ('x', 0.001156451346439782), ('y', 0.013844374690236246), ('z', 0.0006277878737815959)]\n",
      ".....Japanese.....\n",
      "[(' ', 1766), ('a', 1885), ('b', 155), ('c', 78), ('d', 246), ('e', 861), ('f', 55), ('g', 200), ('h', 454), ('i', 1388), ('j', 33), ('k', 821), ('l', 20), ('m', 569), ('n', 811), ('o', 1304), ('p', 12), ('q', 1), ('r', 612), ('s', 603), ('t', 815), ('u', 1010), ('v', 3), ('w', 282), ('x', 0), ('y', 202), ('z', 110)]\n",
      "[(' ', 0.12344945665466997), ('a', 0.1317656102589189), ('b', 0.010866906600510151), ('c', 0.005485866033054963), ('d', 0.01722631818022992), ('e', 0.06020475907613823), ('f', 0.003878542227191726), ('g', 0.014011670568503443), ('h', 0.03176211607673224), ('i', 0.09703343932352633), ('j', 0.0023411020650616725), ('k', 0.05740941332681086), ('l', 0.001432614696530277), ('m', 0.03979873510604843), ('n', 0.05671057688947902), ('o', 0.09116321324993885), ('p', 0.0008735455466648031), ('q', 0.00010482546559977637), ('r', 0.04280373178657535), ('s', 0.0421747789929767), ('t', 0.056990111464411755), ('u', 0.07061742199238269), ('v', 0.0002445927530661449), ('w', 0.01974212935462455), ('x', 3.4941821866592126e-05), ('y', 0.01415143785596981), ('z', 0.00772214263251686)]\n",
      ".....Spanish.....\n",
      "[(' ', 2728), ('a', 1695), ('b', 133), ('c', 608), ('d', 644), ('e', 1845), ('f', 139), ('g', 116), ('h', 73), ('i', 808), ('j', 107), ('k', 4), ('l', 858), ('m', 418), ('n', 878), ('o', 1175), ('p', 393), ('q', 124), ('r', 961), ('s', 1066), ('t', 577), ('u', 546), ('v', 95), ('w', 1), ('x', 40), ('y', 127), ('z', 43)]\n",
      "[(' ', 0.16826493170115014), ('a', 0.10456045141993771), ('b', 0.008232863618143134), ('c', 0.03752582405722919), ('d', 0.039745922111559924), ('e', 0.1138108599796491), ('f', 0.00860287996053159), ('g', 0.0071844839813758445), ('h', 0.0045327001942585795), ('i', 0.049859702136844375), ('j', 0.006629459467793161), ('k', 0.0002775122567913416), ('l', 0.052943171656748174), ('m', 0.02580863988159477), ('n', 0.054176559464709693), ('o', 0.07249236841293824), ('p', 0.02426690512164287), ('q', 0.007677839104560451), ('r', 0.05929511886774999), ('s', 0.06577040485954797), ('t', 0.03561407295488884), ('u', 0.03370232185254849), ('v', 0.00588942678301625), ('w', 9.250408559711388e-05), ('x', 0.0024976103111220747), ('y', 0.007862847275754679), ('z', 0.0026826184823163022)]\n"
     ]
    }
   ],
   "source": [
    "# Q2, Q3\n",
    "mypath = './languageID'\n",
    "alpha = 0.5\n",
    "print(\".....English.....\")\n",
    "print(get_cond_prob(mypath, train_e, alpha))\n",
    "print(\".....Japanese.....\")\n",
    "print(get_cond_prob(mypath, train_j, alpha))\n",
    "print(\".....Spanish.....\")\n",
    "print(get_cond_prob(mypath, train_s, alpha))"
   ]
  },
  {
   "cell_type": "code",
   "execution_count": 554,
   "id": "d80e12ca",
   "metadata": {},
   "outputs": [
    {
     "name": "stdout",
     "output_type": "stream",
     "text": [
      "[(' ', 498), ('a', 164), ('b', 32), ('c', 53), ('d', 57), ('e', 311), ('f', 55), ('g', 51), ('h', 140), ('i', 140), ('j', 3), ('k', 6), ('l', 85), ('m', 64), ('n', 139), ('o', 182), ('p', 53), ('q', 3), ('r', 141), ('s', 186), ('t', 225), ('u', 65), ('v', 31), ('w', 47), ('x', 4), ('y', 38), ('z', 2)]\n"
     ]
    }
   ],
   "source": [
    "# Q4\n",
    "mypath = \"./languageID\"\n",
    "file = \"e10.txt\"\n",
    "file_path = join(mypath, file)\n",
    "with open(file_path) as f:\n",
    "            corpus_chars = f.read()\n",
    "corpus_chars = corpus_chars.replace('\\n', '')\n",
    "cnt = Counter(corpus_chars)\n",
    "sorted_cnt = sorted([(char, count) for char, count in cnt.items()])\n",
    "print(sorted_cnt)"
   ]
  },
  {
   "cell_type": "code",
   "execution_count": 567,
   "id": "f1c83428",
   "metadata": {},
   "outputs": [
    {
     "name": "stdout",
     "output_type": "stream",
     "text": [
      ".....English.....\n",
      "-3405.6788914862113\n",
      ".....Japanese.....\n",
      "-3809.3849846259354\n",
      ".....Spanish.....\n",
      "-3677.2938684322726\n"
     ]
    }
   ],
   "source": [
    "# Q5\n",
    "def get_likelihood(mypath, train_docs, test_doc, alpha):\n",
    "    total_num_char, sorted_cnt = from_file_get_corpus(mypath, test_doc)\n",
    "    \n",
    "    s_sorted_cnt = [item[1] for item in sorted_cnt]\n",
    "    cond_probs = get_cond_prob(mypath, train_docs, alpha)\n",
    "    assert len(cond_probs) == len(sorted_cnt)\n",
    "    log_cond_probs = [np.log10(cond_prob[1]) for cond_prob in cond_probs]\n",
    "    log_likelihood =[item[0]*item[1] for item in zip(s_sorted_cnt, log_cond_probs)] \n",
    "    return sum(log_likelihood)\n",
    "\n",
    "alpha = 0.5\n",
    "log_k_e = get_likelihood(mypath, train_e, ['e10.txt'], alpha)\n",
    "log_k_j = get_likelihood(mypath, train_j, ['e10.txt'], alpha)\n",
    "log_k_s = get_likelihood(mypath, train_s, ['e10.txt'], alpha)\n",
    "print(\".....English.....\")\n",
    "print(log_k_e)\n",
    "print(\".....Japanese.....\")\n",
    "print(log_k_j)\n",
    "print(\".....Spanish.....\")\n",
    "print(log_k_s)"
   ]
  },
  {
   "cell_type": "code",
   "execution_count": 591,
   "id": "1e1544dd",
   "metadata": {},
   "outputs": [],
   "source": [
    "# Q7\n",
    "mypath = \"./languageID\"\n",
    "train_order = [train_e, train_j, train_s]\n",
    "alpha = 0.5\n",
    "\n",
    "def test(mypath, train_order, test_docs,alpha):\n",
    "    print(test_docs)\n",
    "    result = ['e', 'j', 's']\n",
    "    for test_doc in test_docs:\n",
    "        order = []\n",
    "        print(\"testing ...\", test_doc)\n",
    "        for train_docs in train_order:\n",
    "            order.append(get_likelihood(mypath, train_docs, [test_doc], alpha))\n",
    "        print(f\"test doc: {test_doc}, result: {result[np.argmax(order)]}\")"
   ]
  },
  {
   "cell_type": "code",
   "execution_count": 592,
   "id": "b4cda94a",
   "metadata": {},
   "outputs": [
    {
     "name": "stdout",
     "output_type": "stream",
     "text": [
      "['e10.txt', 'e11.txt', 'e12.txt', 'e13.txt', 'e14.txt', 'e15.txt', 'e16.txt', 'e17.txt', 'e18.txt', 'e19.txt']\n",
      "testing ... e10.txt\n",
      "test doc: e10.txt, result: e\n",
      "testing ... e11.txt\n",
      "test doc: e11.txt, result: e\n",
      "testing ... e12.txt\n",
      "test doc: e12.txt, result: e\n",
      "testing ... e13.txt\n",
      "test doc: e13.txt, result: e\n",
      "testing ... e14.txt\n",
      "test doc: e14.txt, result: e\n",
      "testing ... e15.txt\n",
      "test doc: e15.txt, result: e\n",
      "testing ... e16.txt\n",
      "test doc: e16.txt, result: e\n",
      "testing ... e17.txt\n",
      "test doc: e17.txt, result: e\n",
      "testing ... e18.txt\n",
      "test doc: e18.txt, result: e\n",
      "testing ... e19.txt\n",
      "test doc: e19.txt, result: e\n"
     ]
    }
   ],
   "source": [
    "test_docs = test_e\n",
    "test(mypath, train_order, test_docs, alpha)"
   ]
  },
  {
   "cell_type": "code",
   "execution_count": 585,
   "id": "b18cd40a",
   "metadata": {},
   "outputs": [
    {
     "name": "stdout",
     "output_type": "stream",
     "text": [
      "['j10.txt', 'j11.txt', 'j12.txt', 'j13.txt', 'j14.txt', 'j15.txt', 'j16.txt', 'j17.txt', 'j18.txt', 'j19.txt']\n",
      "testing ... j10.txt\n",
      "test doc: j10.txt, result: j\n",
      "testing ... j11.txt\n",
      "test doc: j11.txt, result: j\n",
      "testing ... j12.txt\n",
      "test doc: j12.txt, result: j\n",
      "testing ... j13.txt\n",
      "test doc: j13.txt, result: j\n",
      "testing ... j14.txt\n",
      "test doc: j14.txt, result: j\n",
      "testing ... j15.txt\n",
      "test doc: j15.txt, result: j\n",
      "testing ... j16.txt\n",
      "test doc: j16.txt, result: j\n",
      "testing ... j17.txt\n",
      "test doc: j17.txt, result: j\n",
      "testing ... j18.txt\n",
      "test doc: j18.txt, result: j\n",
      "testing ... j19.txt\n",
      "test doc: j19.txt, result: j\n"
     ]
    }
   ],
   "source": [
    "test_docs = test_j\n",
    "test(mypath, train_order, test_docs, alpha)"
   ]
  },
  {
   "cell_type": "code",
   "execution_count": 584,
   "id": "d5cf96cc",
   "metadata": {},
   "outputs": [
    {
     "name": "stdout",
     "output_type": "stream",
     "text": [
      "['s10.txt', 's11.txt', 's12.txt', 's13.txt', 's14.txt', 's15.txt', 's16.txt', 's17.txt', 's18.txt', 's19.txt']\n",
      "testing ... s10.txt\n",
      "test doc: s10.txt, result: s\n",
      "testing ... s11.txt\n",
      "test doc: s11.txt, result: s\n",
      "testing ... s12.txt\n",
      "test doc: s12.txt, result: s\n",
      "testing ... s13.txt\n",
      "test doc: s13.txt, result: s\n",
      "testing ... s14.txt\n",
      "test doc: s14.txt, result: s\n",
      "testing ... s15.txt\n",
      "test doc: s15.txt, result: s\n",
      "testing ... s16.txt\n",
      "test doc: s16.txt, result: s\n",
      "testing ... s17.txt\n",
      "test doc: s17.txt, result: s\n",
      "testing ... s18.txt\n",
      "test doc: s18.txt, result: s\n",
      "testing ... s19.txt\n",
      "test doc: s19.txt, result: s\n"
     ]
    }
   ],
   "source": [
    "test_docs = test_s\n",
    "test(mypath, train_order, test_docs, alpha)"
   ]
  },
  {
   "cell_type": "markdown",
   "id": "7cb0add5",
   "metadata": {},
   "source": [
    "## Section 3: Three-layer Neural Network"
   ]
  },
  {
   "cell_type": "code",
   "execution_count": 459,
   "id": "27c27155",
   "metadata": {},
   "outputs": [],
   "source": [
    "# Q2: Implement NN from scratch\n",
    "def to_one_hot(labels):\n",
    "    num_labels = len(np.unique(labels))\n",
    "    one_hot = np.zeros((len(labels), num_labels))\n",
    "    for i, label in enumerate(labels):\n",
    "        one_hot[i, label] = 1\n",
    "    return one_hot"
   ]
  },
  {
   "cell_type": "code",
   "execution_count": 460,
   "id": "e701d44f-4430-41c3-8b64-c0bc6470e952",
   "metadata": {},
   "outputs": [],
   "source": [
    "# Load the training and test set\n",
    "train_dataset = datasets.MNIST(root='data_test', train=True, transform=None, download=True)\n",
    "test_dataset = datasets.MNIST(root='data_test', train=False, transform=None, download=True)\n",
    "\n",
    "x_train = train_dataset.data\n",
    "x_train = train_dataset.data / 255 # normalize training set\n",
    "y_train = train_dataset.targets\n",
    "y_train = to_one_hot(y_train)\n",
    "\n",
    "x_test = test_dataset.data\n",
    "x_test = test_dataset.data / 255\n",
    "y_test = test_dataset.targets\n",
    "y_test = to_one_hot(y_test)"
   ]
  },
  {
   "cell_type": "code",
   "execution_count": 461,
   "id": "4b76ec8c",
   "metadata": {},
   "outputs": [],
   "source": [
    "# Define activation functions\n",
    "def sigmoid(z):\n",
    "    return 1.0 / (1.0 + np.exp(-z))\n",
    "\n",
    "def softmax(z):\n",
    "    return np.exp(z) / np.sum(np.exp(z), axis=0)\n",
    "\n",
    "# Define cross-entropy loss function\n",
    "def cross_entropy_loss(y, y_hat):\n",
    "    return -np.sum(y * np.log(y_hat), axis = 1).mean()"
   ]
  },
  {
   "cell_type": "code",
   "execution_count": 593,
   "id": "0dbb0b41",
   "metadata": {},
   "outputs": [],
   "source": [
    "# Create three layer neural network architecture\n",
    "class NN:     \n",
    "    def __init__(self, d = 784, d1 = 300, d2 = 200, k = 10, lr = 0.5, num_epochs = 15, batch_size = 64):             \n",
    "        self.W1 = np.random.randn(d1, d) / np.sqrt(d)\n",
    "        self.W2 = np.random.randn(d2, d1) / np.sqrt(d1)\n",
    "        self.W3 = np.random.randn(k, d2) / np.sqrt(d2)\n",
    "\n",
    "#         self.W1 = np.zeros((d1, d)     # Initialize Wi = 0\n",
    "#         self.W2 = np.zeros((d2, d1))\n",
    "#         self.W3 = np.zeros((k, d2))\n",
    "\n",
    "#         self.W1 = np.random.uniform(-1, 1, (d1, d))     # Initialize Wi = numbers generated from -1 to 1\n",
    "#         self.W2 = np.random.uniform(-1, 1, (d2, d1))\n",
    "#         self.W3 = np.random.uniform(-1, 1, (k, d2))\n",
    "\n",
    "        self.lr = lr\n",
    "        self.num_epochs = num_epochs\n",
    "        self.batch_size = batch_size\n",
    "\n",
    "    # Define forward and backward functions\n",
    "    def inter_forward(self, x, y):\n",
    "        z1 = np.dot(self.W1, x)\n",
    "        a1 = sigmoid(z1)\n",
    "        z2 = np.dot(self.W2, a1)\n",
    "        a2 = sigmoid(z2)\n",
    "        return a1.T, a2.T\n",
    "\n",
    "    def forward(self, x, y):\n",
    "        z1 = np.dot(self.W1, x)\n",
    "        a1 = sigmoid(z1)\n",
    "        z2 = np.dot(self.W2, a1)\n",
    "        a2 = sigmoid(z2)\n",
    "        z3 = np.dot(self.W3, a2)\n",
    "        y_hat = softmax(z3)\n",
    "        return y_hat.T # bz, cls\n",
    "                           \n",
    "    def save_ckpt(self, id):\n",
    "        np.savez(f'{id}_weights.npz', W1=self.W1, W2=self.W2, W3=self.W3)\n",
    "\n",
    "    def backward(self, x, y, y_hat):\n",
    "        a1, a2 = self.inter_forward(x, y)\n",
    "        delta4 = -(y - y_hat) # 32, 10\n",
    "        dW3 = np.einsum('ij,ik->ijk', delta4, a2)\n",
    "        # print('dW3 ', dW3.shape)\n",
    "        # dW3 = np.dot(delta4, a2.T)\n",
    "        delta3 = np.dot(delta4, self.W3) * a2 * (1 - a2) # 32, 200\n",
    "        dW2 = np.einsum('ij,ik->ijk', delta3, a1) # 32, 200, 300\n",
    "        # dW2 = np.dot(delta3, a1.T)\n",
    "        delta2 = np.dot(delta3, self.W2) * a1 * (1 - a1)\n",
    "        dW1 = np.einsum('ij,ik->ijk', delta2, x.T) # 32, 300, 784\n",
    "        # dW1 = np.dot(delta2, x.T)\n",
    "        # Update weights\n",
    "        self.W1 -= self.lr * np.mean(dW1, axis = 0)\n",
    "        self.W2 -= self.lr * np.mean(dW2, axis = 0)\n",
    "        self.W3 -= self.lr * np.mean(dW3, axis = 0)"
   ]
  },
  {
   "cell_type": "code",
   "execution_count": 478,
   "id": "74ae45a8",
   "metadata": {},
   "outputs": [],
   "source": [
    "# Training loop\n",
    "def neural_network_minibatch_train(nn, x_train, y_train, x_test, y_test, batch_size, lr, num_epochs, d, save = False, id = None):\n",
    "    num_train_batches = len(x_train) // batch_size\n",
    "    training_loss = []\n",
    "    test_loss = []\n",
    "    for epoch in range(num_epochs):\n",
    "#         running_loss = 0.0\n",
    "        train_correct = 0\n",
    "        epoch_train_loss = 0\n",
    "        epoch_test_loss = 0\n",
    "        for i in range(num_train_batches):\n",
    "            # Load batch\n",
    "            idx = range(i*batch_size, (i+1)*batch_size)\n",
    "            batch_x = np.reshape(x_train[idx], (batch_size, d))\n",
    "            batch_y = np.array(y_train[idx])\n",
    "            \n",
    "            # print(batch_x.shape) # 32, 784\n",
    "            # print(batch_y.shape) # 32, 10\n",
    "\n",
    "            # Forward pass\n",
    "            y_hat = nn.forward(batch_x.T, batch_y)\n",
    "            # print(y_hat)\n",
    "            loss = cross_entropy_loss(batch_y, y_hat)\n",
    "#             running_loss += loss * batch_size\n",
    "\n",
    "            # Compute accuracy\n",
    "            predictions = np.argmax(y_hat, axis=1)\n",
    "            true_labels = np.argmax(batch_y, axis=1)\n",
    "            train_correct += np.sum(predictions == true_labels)\n",
    "\n",
    "            # Backward pass\n",
    "            nn.backward(batch_x.T, batch_y, y_hat)\n",
    "            \n",
    "#             # Running loss and average accuracy\n",
    "#             if i % 50 == 49: \n",
    "#                 avg_loss = running_loss / (50*batch_size)\n",
    "#                 avg_correct = train_correct / (50*batch_size)\n",
    "#                 print(f'Epoch {epoch+1}, Iter {i+1}, Average Loss: {avg_loss:.4f}, Avg acc: {avg_correct:.4f}')\n",
    "#                 running_loss = 0.0\n",
    "#                 train_correct = 0\n",
    "                \n",
    "            # store and print epoch training loss and accuracy\n",
    "            epoch_train_loss += loss * batch_size\n",
    "        epoch_train_loss /= (num_train_batches * batch_size)\n",
    "        epoch_train_accuracy = train_correct / (num_train_batches * batch_size)\n",
    "        training_loss.append(epoch_train_loss)\n",
    "        print(f\"Epoch: {epoch+1}/{num_epochs}, Training loss: {epoch_train_loss:.4f}, Training Accuracy: {epoch_train_accuracy:.4f}\")\n",
    "        \n",
    "        # store and print epoch test loss and accuracy\n",
    "        epoch_test_loss, epoch_test_accuracy = neural_network_minibatch_test(nn, x_test, y_test, batch_size, lr, d)\n",
    "        test_loss.append(epoch_test_loss)\n",
    "    \n",
    "    if save:\n",
    "        nn.save_ckpt(id)\n",
    "    return training_loss, test_loss\n"
   ]
  },
  {
   "cell_type": "code",
   "execution_count": 464,
   "id": "a3089581",
   "metadata": {},
   "outputs": [],
   "source": [
    " def plot_learning_curve(num_epochs, training_loss, test_loss):\n",
    "    plt.plot(range(1, num_epochs + 1), training_loss, label='Training Loss')\n",
    "    plt.plot(range(1, num_epochs + 1), test_loss, label='Test Loss')\n",
    "    plt.xlabel(\"Epoch\")\n",
    "    plt.ylabel(\"Loss\")\n",
    "    plt.title(\"Learning Curve\")\n",
    "    plt.legend()\n",
    "    plt.show()"
   ]
  },
  {
   "cell_type": "code",
   "execution_count": 503,
   "id": "6809eda2",
   "metadata": {
    "scrolled": true
   },
   "outputs": [
    {
     "name": "stdout",
     "output_type": "stream",
     "text": [
      "Epoch: 1/15, Training loss: 0.6727, Training Accuracy: 0.7814\n",
      "Test Loss: 0.3585, Test Accuracy: 0.8882\n",
      "Epoch: 2/15, Training loss: 0.2818, Training Accuracy: 0.9168\n",
      "Test Loss: 0.2620, Test Accuracy: 0.9179\n",
      "Epoch: 3/15, Training loss: 0.2157, Training Accuracy: 0.9358\n",
      "Test Loss: 0.2050, Test Accuracy: 0.9365\n",
      "Epoch: 4/15, Training loss: 0.1727, Training Accuracy: 0.9485\n",
      "Test Loss: 0.1693, Test Accuracy: 0.9482\n",
      "Epoch: 5/15, Training loss: 0.1432, Training Accuracy: 0.9575\n",
      "Test Loss: 0.1450, Test Accuracy: 0.9546\n",
      "Epoch: 6/15, Training loss: 0.1215, Training Accuracy: 0.9640\n",
      "Test Loss: 0.1275, Test Accuracy: 0.9597\n",
      "Epoch: 7/15, Training loss: 0.1047, Training Accuracy: 0.9695\n",
      "Test Loss: 0.1147, Test Accuracy: 0.9634\n",
      "Epoch: 8/15, Training loss: 0.0911, Training Accuracy: 0.9735\n",
      "Test Loss: 0.1049, Test Accuracy: 0.9660\n",
      "Epoch: 9/15, Training loss: 0.0799, Training Accuracy: 0.9773\n",
      "Test Loss: 0.0972, Test Accuracy: 0.9685\n",
      "Epoch: 10/15, Training loss: 0.0704, Training Accuracy: 0.9800\n",
      "Test Loss: 0.0911, Test Accuracy: 0.9700\n",
      "Epoch: 11/15, Training loss: 0.0624, Training Accuracy: 0.9821\n",
      "Test Loss: 0.0866, Test Accuracy: 0.9706\n",
      "Epoch: 12/15, Training loss: 0.0553, Training Accuracy: 0.9840\n",
      "Test Loss: 0.0835, Test Accuracy: 0.9720\n",
      "Epoch: 13/15, Training loss: 0.0491, Training Accuracy: 0.9862\n",
      "Test Loss: 0.0815, Test Accuracy: 0.9728\n",
      "Epoch: 14/15, Training loss: 0.0436, Training Accuracy: 0.9879\n",
      "Test Loss: 0.0800, Test Accuracy: 0.9738\n",
      "Epoch: 15/15, Training loss: 0.0386, Training Accuracy: 0.9895\n",
      "Test Loss: 0.0788, Test Accuracy: 0.9742\n"
     ]
    }
   ],
   "source": [
    "lr = 0.5\n",
    "batch_size = 64\n",
    "num_epochs = 15\n",
    "d = 784\n",
    "nn = NN(lr = lr, batch_size = batch_size)\n",
    "training_loss_64, test_loss_64 = neural_network_minibatch_train(nn, x_train, y_train, x_test, y_test, batch_size, lr, num_epochs, d)"
   ]
  },
  {
   "cell_type": "code",
   "execution_count": 504,
   "id": "1d2a9a19",
   "metadata": {},
   "outputs": [
    {
     "name": "stdout",
     "output_type": "stream",
     "text": [
      "[0.672712590750058, 0.28177384423694063, 0.215668208596046, 0.1727370744279292, 0.14318470874256348, 0.1214512937606302, 0.10467659322830623, 0.09113903472814312, 0.07989858715938314, 0.07043859792211186, 0.06235116963311081, 0.05532065649646682, 0.049121327552375645, 0.043595266437736487, 0.03863202614947533] [0.3584511041746361, 0.26204671577627325, 0.20502700739019927, 0.1693381514071508, 0.14500839914129232, 0.12751992644625645, 0.11468295470388257, 0.10494561686127536, 0.0972314103498255, 0.09110904796891174, 0.08656134985407493, 0.0834852648903961, 0.0814607995859231, 0.08000988688679746, 0.07877304103501591]\n"
     ]
    },
    {
     "data": {
      "image/png": "[encoded data removed]",
      "text/plain": [
       "<Figure size 432x288 with 1 Axes>"
      ]
     },
     "metadata": {
      "needs_background": "light"
     },
     "output_type": "display_data"
    }
   ],
   "source": [
    "# Plot learning curve given batch size = 64, learning rate = 0.5, number of epochs = 15\n",
    "print(training_loss_64, test_loss_64)\n",
    "plot_learning_curve(num_epochs, training_loss = training_loss_64, test_loss = test_loss_64)"
   ]
  },
  {
   "cell_type": "code",
   "execution_count": 497,
   "id": "ca706e45",
   "metadata": {},
   "outputs": [
    {
     "name": "stdout",
     "output_type": "stream",
     "text": [
      "Epoch: 1/15, Training loss: 0.6670, Training Accuracy: 0.7854\n",
      "Test Loss: 0.3560, Test Accuracy: 0.8881\n",
      "Epoch: 2/15, Training loss: 0.2758, Training Accuracy: 0.9182\n",
      "Test Loss: 0.2565, Test Accuracy: 0.9207\n",
      "Epoch: 3/15, Training loss: 0.2112, Training Accuracy: 0.9369\n",
      "Test Loss: 0.1991, Test Accuracy: 0.9390\n",
      "Epoch: 4/15, Training loss: 0.1688, Training Accuracy: 0.9502\n",
      "Test Loss: 0.1635, Test Accuracy: 0.9502\n",
      "Epoch: 5/15, Training loss: 0.1396, Training Accuracy: 0.9585\n",
      "Test Loss: 0.1398, Test Accuracy: 0.9576\n",
      "Epoch: 6/15, Training loss: 0.1181, Training Accuracy: 0.9651\n",
      "Test Loss: 0.1232, Test Accuracy: 0.9611\n",
      "Epoch: 7/15, Training loss: 0.1014, Training Accuracy: 0.9700\n",
      "Test Loss: 0.1114, Test Accuracy: 0.9649\n",
      "Epoch: 8/15, Training loss: 0.0879, Training Accuracy: 0.9743\n",
      "Test Loss: 0.1027, Test Accuracy: 0.9684\n",
      "Epoch: 9/15, Training loss: 0.0767, Training Accuracy: 0.9782\n",
      "Test Loss: 0.0963, Test Accuracy: 0.9704\n",
      "Epoch: 10/15, Training loss: 0.0673, Training Accuracy: 0.9809\n",
      "Test Loss: 0.0915, Test Accuracy: 0.9707\n",
      "Epoch: 11/15, Training loss: 0.0594, Training Accuracy: 0.9834\n",
      "Test Loss: 0.0881, Test Accuracy: 0.9717\n",
      "Epoch: 12/15, Training loss: 0.0525, Training Accuracy: 0.9854\n",
      "Test Loss: 0.0855, Test Accuracy: 0.9723\n",
      "Epoch: 13/15, Training loss: 0.0465, Training Accuracy: 0.9871\n",
      "Test Loss: 0.0835, Test Accuracy: 0.9734\n",
      "Epoch: 14/15, Training loss: 0.0412, Training Accuracy: 0.9888\n",
      "Test Loss: 0.0821, Test Accuracy: 0.9744\n",
      "Epoch: 15/15, Training loss: 0.0364, Training Accuracy: 0.9904\n",
      "Test Loss: 0.0810, Test Accuracy: 0.9742\n"
     ]
    }
   ],
   "source": [
    "# Q4\n",
    "# Initialize weights to 0, given batch size = 64, learning rate = 0.5, number of epochs = 15\n",
    "lr = 0.5\n",
    "batch_size = 64\n",
    "num_epochs = 15\n",
    "d = 784\n",
    "nn0 = NN(lr = lr, batch_size = batch_size)\n",
    "training_loss_i0, test_loss_i0 = neural_network_minibatch_train(nn0, x_train, y_train, x_test, y_test, batch_size, lr, num_epochs, d)"
   ]
  },
  {
   "cell_type": "code",
   "execution_count": 498,
   "id": "4570b48d",
   "metadata": {},
   "outputs": [
    {
     "name": "stdout",
     "output_type": "stream",
     "text": [
      "[0.6670203054777928, 0.2758341853281295, 0.2111812543795634, 0.1688390999700045, 0.13964845861187827, 0.11811866529725365, 0.10138145300460057, 0.08786818053233961, 0.07669486924096829, 0.06733338848860003, 0.059378397037373826, 0.05250774303685015, 0.04648513292434168, 0.041150191980915136, 0.03639527631104327] [0.35597919574630044, 0.256501779540454, 0.19913578719970237, 0.16347857884168263, 0.13980834625203548, 0.12322685625713543, 0.11138664284525664, 0.10270964299135692, 0.09626836128972036, 0.09151953879673706, 0.08805809358138832, 0.08548926301071928, 0.0835434063537732, 0.08208840860691516, 0.0810403436033596]\n"
     ]
    },
    {
     "data": {
      "image/png": "[encoded data removed]",
      "text/plain": [
       "<Figure size 432x288 with 1 Axes>"
      ]
     },
     "metadata": {
      "needs_background": "light"
     },
     "output_type": "display_data"
    }
   ],
   "source": [
    "print(training_loss_i0, test_loss_i0)\n",
    "plot_learning_curve(num_epochs, training_loss = training_loss_i0, test_loss = test_loss_i0)"
   ]
  },
  {
   "cell_type": "code",
   "execution_count": 500,
   "id": "4873c4a5",
   "metadata": {},
   "outputs": [
    {
     "name": "stdout",
     "output_type": "stream",
     "text": [
      "Epoch: 1/15, Training loss: 0.5244, Training Accuracy: 0.8603\n",
      "Test Loss: 0.2818, Test Accuracy: 0.9145\n",
      "Epoch: 2/15, Training loss: 0.2073, Training Accuracy: 0.9375\n",
      "Test Loss: 0.2077, Test Accuracy: 0.9363\n",
      "Epoch: 3/15, Training loss: 0.1526, Training Accuracy: 0.9548\n",
      "Test Loss: 0.1807, Test Accuracy: 0.9447\n",
      "Epoch: 4/15, Training loss: 0.1202, Training Accuracy: 0.9648\n",
      "Test Loss: 0.1644, Test Accuracy: 0.9501\n",
      "Epoch: 5/15, Training loss: 0.0974, Training Accuracy: 0.9719\n",
      "Test Loss: 0.1549, Test Accuracy: 0.9527\n",
      "Epoch: 6/15, Training loss: 0.0802, Training Accuracy: 0.9777\n",
      "Test Loss: 0.1490, Test Accuracy: 0.9539\n",
      "Epoch: 7/15, Training loss: 0.0666, Training Accuracy: 0.9819\n",
      "Test Loss: 0.1442, Test Accuracy: 0.9564\n",
      "Epoch: 8/15, Training loss: 0.0555, Training Accuracy: 0.9862\n",
      "Test Loss: 0.1398, Test Accuracy: 0.9569\n",
      "Epoch: 9/15, Training loss: 0.0464, Training Accuracy: 0.9891\n",
      "Test Loss: 0.1361, Test Accuracy: 0.9593\n",
      "Epoch: 10/15, Training loss: 0.0390, Training Accuracy: 0.9916\n",
      "Test Loss: 0.1332, Test Accuracy: 0.9610\n",
      "Epoch: 11/15, Training loss: 0.0329, Training Accuracy: 0.9937\n",
      "Test Loss: 0.1311, Test Accuracy: 0.9615\n",
      "Epoch: 12/15, Training loss: 0.0279, Training Accuracy: 0.9950\n",
      "Test Loss: 0.1296, Test Accuracy: 0.9620\n",
      "Epoch: 13/15, Training loss: 0.0238, Training Accuracy: 0.9963\n",
      "Test Loss: 0.1286, Test Accuracy: 0.9624\n",
      "Epoch: 14/15, Training loss: 0.0204, Training Accuracy: 0.9972\n",
      "Test Loss: 0.1279, Test Accuracy: 0.9625\n",
      "Epoch: 15/15, Training loss: 0.0176, Training Accuracy: 0.9980\n",
      "Test Loss: 0.1275, Test Accuracy: 0.9624\n"
     ]
    }
   ],
   "source": [
    "# Initialize weights to randomly generated between -1 to 1, given batch size = 64, learning rate = 0.5, number of epochs = 15\n",
    "lr = 0.5\n",
    "batch_size = 64\n",
    "num_epochs = 15\n",
    "d = 784\n",
    "nn1 = NN(lr = lr, batch_size = batch_size)\n",
    "training_loss_i1, test_loss_i1 = neural_network_minibatch_train(nn1, x_train, y_train, x_test, y_test, batch_size, lr, num_epochs, d)"
   ]
  },
  {
   "cell_type": "code",
   "execution_count": 501,
   "id": "d94d454f",
   "metadata": {},
   "outputs": [
    {
     "name": "stdout",
     "output_type": "stream",
     "text": [
      "[0.5244388838715024, 0.20732162266294138, 0.15264742906322762, 0.12023142445975721, 0.0974360702013024, 0.08021804412992231, 0.06657650788366483, 0.0554967699708923, 0.046426241168097584, 0.038999460937228385, 0.032909802728184084, 0.027906147732163218, 0.023794835771803895, 0.020410918086654007, 0.017615412887825335] [0.281843876591885, 0.20768987722958307, 0.18072840190215902, 0.1644318187114422, 0.1548622472710574, 0.1489613687301465, 0.14420269879510586, 0.13981753533837243, 0.1360987591659683, 0.13321251462210595, 0.131118879482028, 0.12964794131671167, 0.12861947316104386, 0.12792350851968934, 0.12748202496937297]\n"
     ]
    },
    {
     "data": {
      "image/png": "[encoded data removed]",
      "text/plain": [
       "<Figure size 432x288 with 1 Axes>"
      ]
     },
     "metadata": {
      "needs_background": "light"
     },
     "output_type": "display_data"
    }
   ],
   "source": [
    "print(training_loss_i1, test_loss_i1)\n",
    "plot_learning_curve(num_epochs, training_loss = training_loss_i1, test_loss = test_loss_i1)"
   ]
  },
  {
   "cell_type": "code",
   "execution_count": 481,
   "id": "ab19f47a",
   "metadata": {},
   "outputs": [
    {
     "name": "stdout",
     "output_type": "stream",
     "text": [
      "Epoch: 1/15, Training loss: 0.5137, Training Accuracy: 0.8342\n",
      "Test Loss: 0.2620, Test Accuracy: 0.9195\n",
      "Epoch: 2/15, Training loss: 0.2056, Training Accuracy: 0.9377\n",
      "Test Loss: 0.1763, Test Accuracy: 0.9470\n",
      "Epoch: 3/15, Training loss: 0.1448, Training Accuracy: 0.9559\n",
      "Test Loss: 0.1358, Test Accuracy: 0.9590\n",
      "Epoch: 4/15, Training loss: 0.1105, Training Accuracy: 0.9667\n",
      "Test Loss: 0.1135, Test Accuracy: 0.9654\n",
      "Epoch: 5/15, Training loss: 0.0879, Training Accuracy: 0.9743\n",
      "Test Loss: 0.1008, Test Accuracy: 0.9697\n",
      "Epoch: 6/15, Training loss: 0.0717, Training Accuracy: 0.9793\n",
      "Test Loss: 0.0933, Test Accuracy: 0.9700\n",
      "Epoch: 7/15, Training loss: 0.0591, Training Accuracy: 0.9832\n",
      "Test Loss: 0.0900, Test Accuracy: 0.9714\n",
      "Epoch: 8/15, Training loss: 0.0489, Training Accuracy: 0.9864\n",
      "Test Loss: 0.0893, Test Accuracy: 0.9710\n",
      "Epoch: 9/15, Training loss: 0.0405, Training Accuracy: 0.9891\n",
      "Test Loss: 0.0889, Test Accuracy: 0.9719\n",
      "Epoch: 10/15, Training loss: 0.0334, Training Accuracy: 0.9914\n",
      "Test Loss: 0.0873, Test Accuracy: 0.9727\n",
      "Epoch: 11/15, Training loss: 0.0274, Training Accuracy: 0.9934\n",
      "Test Loss: 0.0852, Test Accuracy: 0.9734\n",
      "Epoch: 12/15, Training loss: 0.0222, Training Accuracy: 0.9949\n",
      "Test Loss: 0.0837, Test Accuracy: 0.9740\n",
      "Epoch: 13/15, Training loss: 0.0178, Training Accuracy: 0.9965\n",
      "Test Loss: 0.0833, Test Accuracy: 0.9742\n",
      "Epoch: 14/15, Training loss: 0.0143, Training Accuracy: 0.9976\n",
      "Test Loss: 0.0845, Test Accuracy: 0.9747\n",
      "Epoch: 15/15, Training loss: 0.0114, Training Accuracy: 0.9983\n",
      "Test Loss: 0.0854, Test Accuracy: 0.9755\n"
     ]
    }
   ],
   "source": [
    "# Plot learning curve given batch size = 32, learning rate = 0.5, number of epochs = 15\n",
    "lr = 0.5\n",
    "batch_size = 32\n",
    "num_epochs = 15\n",
    "d = 784\n",
    "nn = NN(lr = lr, batch_size = batch_size)\n",
    "training_loss_32, test_loss_32 = neural_network_minibatch_train(nn, x_train, y_train, x_test, y_test, batch_size, lr, num_epochs, d)"
   ]
  },
  {
   "cell_type": "code",
   "execution_count": 482,
   "id": "f74e7f93",
   "metadata": {},
   "outputs": [
    {
     "name": "stdout",
     "output_type": "stream",
     "text": [
      "[0.5137242314309469, 0.20562265954203765, 0.14484872153108638, 0.11047873819337217, 0.08790630150487384, 0.07169251494585582, 0.059060084460478265, 0.0488716387625614, 0.040480088065147454, 0.03339845089306827, 0.02735100429509918, 0.0221906145593336, 0.017809800342587195, 0.014259681276340629, 0.011429296892943416] [0.2619654564671687, 0.17634700977971088, 0.13580430104976862, 0.11354785568817452, 0.10076331727390261, 0.09331292151558286, 0.09002240061526817, 0.0892840055895494, 0.08887294279554087, 0.08733075305254166, 0.08515035302106348, 0.08369935979220791, 0.08326541378314184, 0.08446320259888769, 0.08537665401958905]\n"
     ]
    },
    {
     "data": {
      "image/png": "[encoded data removed]",
      "text/plain": [
       "<Figure size 432x288 with 1 Axes>"
      ]
     },
     "metadata": {
      "needs_background": "light"
     },
     "output_type": "display_data"
    }
   ],
   "source": [
    "print(training_loss_32, test_loss_32)\n",
    "plot_learning_curve(num_epochs, training_loss = training_loss_32, test_loss = test_loss_32)"
   ]
  },
  {
   "cell_type": "code",
   "execution_count": 480,
   "id": "d55223d1",
   "metadata": {},
   "outputs": [],
   "source": [
    "# Compute test loss and accuracy\n",
    "def neural_network_minibatch_test(nn, x_test, y_test, batch_size, lr, d):\n",
    "    num_test_batches = len(x_test) // batch_size\n",
    "    test_loss = 0.0\n",
    "    test_correct = 0\n",
    "    for i in range(num_test_batches):\n",
    "        # Load batch\n",
    "        idx = range(i*batch_size, (i+1)*batch_size)\n",
    "        batch_x = np.reshape(x_test[idx], (batch_size, d))\n",
    "        batch_y = np.array(y_test[idx])\n",
    "\n",
    "        # Forward pass\n",
    "        y_hat = nn.forward(batch_x.T, batch_y)\n",
    "        # print(y_hat)\n",
    "        loss = cross_entropy_loss(batch_y, y_hat)\n",
    "        test_loss += loss * batch_size\n",
    "\n",
    "        # Compute accuracy\n",
    "        predictions = np.argmax(y_hat, axis=1)\n",
    "        true_labels = np.argmax(batch_y, axis=1)\n",
    "        test_correct += np.sum(predictions == true_labels)\n",
    "    test_accuracy = test_correct / (num_test_batches * batch_size)\n",
    "    test_loss = test_loss / (num_test_batches * batch_size)\n",
    "    print(f\"Test Loss: {test_loss:.4f}, Test Accuracy: {test_accuracy:.4f}\")\n",
    "    return test_loss, test_accuracy\n"
   ]
  },
  {
   "cell_type": "code",
   "execution_count": 420,
   "id": "b991dd29",
   "metadata": {},
   "outputs": [
    {
     "name": "stdout",
     "output_type": "stream",
     "text": [
      "Test Loss: 0.0808, Test Accuracy: 0.9721\n"
     ]
    }
   ],
   "source": [
    "test_loss, test_accuracy = neural_network_minibatch_test(nn, x_test, y_test, batch_size, lr, d)"
   ]
  },
  {
   "cell_type": "code",
   "execution_count": 485,
   "id": "c024df3c",
   "metadata": {},
   "outputs": [
    {
     "name": "stdout",
     "output_type": "stream",
     "text": [
      "Epoch 1/15, Train Loss: 2.2507, Test Loss: 2.1167\n",
      "Epoch 2/15, Train Loss: 1.9510, Test Loss: 1.8441\n",
      "Epoch 3/15, Train Loss: 1.8141, Test Loss: 1.7756\n",
      "Epoch 4/15, Train Loss: 1.7463, Test Loss: 1.7286\n",
      "Epoch 5/15, Train Loss: 1.7213, Test Loss: 1.7188\n",
      "Epoch 6/15, Train Loss: 1.7116, Test Loss: 1.7095\n",
      "Epoch 7/15, Train Loss: 1.7059, Test Loss: 1.7045\n",
      "Epoch 8/15, Train Loss: 1.7021, Test Loss: 1.7032\n",
      "Epoch 9/15, Train Loss: 1.6988, Test Loss: 1.7010\n",
      "Epoch 10/15, Train Loss: 1.6964, Test Loss: 1.6982\n",
      "Epoch 11/15, Train Loss: 1.6943, Test Loss: 1.6959\n",
      "Epoch 12/15, Train Loss: 1.6921, Test Loss: 1.6967\n",
      "Epoch 13/15, Train Loss: 1.6907, Test Loss: 1.6942\n",
      "Epoch 14/15, Train Loss: 1.6893, Test Loss: 1.6941\n",
      "Epoch 15/15, Train Loss: 1.6876, Test Loss: 1.6931\n"
     ]
    },
    {
     "data": {
      "image/png": "[encoded data removed]",
      "text/plain": [
       "<Figure size 432x288 with 1 Axes>"
      ]
     },
     "metadata": {
      "needs_background": "light"
     },
     "output_type": "display_data"
    }
   ],
   "source": [
    "# Q3\n",
    "# Load the MNIST dataset\n",
    "transform = transforms.Compose([transforms.ToTensor()])\n",
    "train_dataset = datasets.MNIST(root='./data', train=True, download=True, transform=transform)\n",
    "test_dataset = datasets.MNIST(root='./data', train=False, transform=transform)\n",
    "\n",
    "train_loader = DataLoader(train_dataset, batch_size=64, shuffle=True)\n",
    "test_loader = DataLoader(test_dataset, batch_size=1000, shuffle=False)\n",
    "\n",
    "# Define the neural network architecture\n",
    "class Net(nn.Module):\n",
    "    def __init__(self):\n",
    "        super(Net, self).__init__()\n",
    "        self.fc1 = nn.Linear(28 * 28, 300)\n",
    "        self.fc2 = nn.Linear(300, 200)\n",
    "        self.fc3 = nn.Linear(200, 10)\n",
    "\n",
    "    def forward(self, x):\n",
    "        x = x.view(-1, 28 * 28)\n",
    "        x = torch.sigmoid(self.fc1(x))\n",
    "        x = torch.sigmoid(self.fc2(x))\n",
    "        x = self.fc3(x)\n",
    "        return torch.softmax(x, dim=1)\n",
    "\n",
    "model = Net()\n",
    "\n",
    "# Set the loss function and optimizer\n",
    "criterion = nn.CrossEntropyLoss()\n",
    "optimizer = optim.SGD(model.parameters(), lr=0.5)\n",
    "\n",
    "# Train and test the model, store training and test loss  \n",
    "num_epochs = 15\n",
    "training_loss = []\n",
    "test_loss = []\n",
    "for epoch in range(num_epochs):\n",
    "    # Training\n",
    "    model.train()\n",
    "    epoch_train_loss = 0\n",
    "    for batch_idx, (data, target) in enumerate(train_loader):\n",
    "        optimizer.zero_grad()\n",
    "        output = model(data)\n",
    "        loss = criterion(output, target)\n",
    "        loss.backward()\n",
    "        optimizer.step()\n",
    "        epoch_train_loss += loss.item()\n",
    "    epoch_train_loss /= len(train_loader)\n",
    "    training_loss.append(epoch_train_loss)\n",
    "\n",
    "    # Testing\n",
    "    model.eval()\n",
    "    epoch_test_loss = 0\n",
    "    with torch.no_grad():\n",
    "        for data, target in test_loader:\n",
    "            output = model(data)\n",
    "            loss = criterion(output, target)\n",
    "            epoch_test_loss += loss.item()\n",
    "    epoch_test_loss /= len(test_loader)\n",
    "    test_loss.append(epoch_test_loss)\n",
    "\n",
    "    print(f\"Epoch {epoch + 1}/{num_epochs}, Train Loss: {epoch_train_loss:.4f}, Test Loss: {epoch_test_loss:.4f}\")\n",
    "\n",
    "# Plot the learning curve\n",
    "plt.plot(range(1, num_epochs + 1), training_loss, label='Training Loss')\n",
    "plt.plot(range(1, num_epochs + 1), test_loss, label='Test Loss')\n",
    "plt.xlabel(\"Epoch\")\n",
    "plt.ylabel(\"Loss\")\n",
    "plt.title(\"Learning Curve\")\n",
    "plt.legend()\n",
    "plt.show()"
   ]
  },
  {
   "cell_type": "code",
   "execution_count": null,
   "id": "3969533c",
   "metadata": {},
   "outputs": [],
   "source": []
  }
 ],
 "metadata": {
  "kernelspec": {
   "display_name": "backup",
   "language": "python",
   "name": "backup"
  },
  "language_info": {
   "codemirror_mode": {
    "name": "ipython",
    "version": 3
   },
   "file_extension": ".py",
   "mimetype": "text/x-python",
   "name": "python",
   "nbconvert_exporter": "python",
   "pygments_lexer": "ipython3",
   "version": "3.9.16"
  }
 },
 "nbformat": 4,
 "nbformat_minor": 5
}
